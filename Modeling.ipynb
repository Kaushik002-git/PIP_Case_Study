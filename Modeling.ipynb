{
 "cells": [
  {
   "cell_type": "markdown",
   "id": "de0be984",
   "metadata": {},
   "source": [
    "# Importing Libraries"
   ]
  },
  {
   "cell_type": "code",
   "execution_count": 1,
   "id": "42b574f4",
   "metadata": {},
   "outputs": [],
   "source": [
    "import numpy as np\n",
    "import pandas as pd\n",
    "import seaborn as sns\n",
    "import matplotlib.pyplot as plt"
   ]
  },
  {
   "cell_type": "markdown",
   "id": "54fe4e9f",
   "metadata": {},
   "source": [
    "# Loading Dataset"
   ]
  },
  {
   "cell_type": "code",
   "execution_count": 2,
   "id": "738b6c0e",
   "metadata": {
    "scrolled": true
   },
   "outputs": [
    {
     "data": {
      "text/html": [
       "<div>\n",
       "<style scoped>\n",
       "    .dataframe tbody tr th:only-of-type {\n",
       "        vertical-align: middle;\n",
       "    }\n",
       "\n",
       "    .dataframe tbody tr th {\n",
       "        vertical-align: top;\n",
       "    }\n",
       "\n",
       "    .dataframe thead th {\n",
       "        text-align: right;\n",
       "    }\n",
       "</style>\n",
       "<table border=\"1\" class=\"dataframe\">\n",
       "  <thead>\n",
       "    <tr style=\"text-align: right;\">\n",
       "      <th></th>\n",
       "      <th>Unnamed: 0</th>\n",
       "      <th>Device_ID</th>\n",
       "      <th>Event_ID</th>\n",
       "      <th>Event_start_time</th>\n",
       "      <th>Name_of_cat</th>\n",
       "      <th>Weight_of_cat</th>\n",
       "      <th>Activity</th>\n",
       "      <th>Cat_In_Box</th>\n",
       "      <th>Synapse_Labeled</th>\n",
       "      <th>Event_Date</th>\n",
       "      <th>...</th>\n",
       "      <th>Points_Percentage</th>\n",
       "      <th>Stepping_In_Time</th>\n",
       "      <th>Stepping_Out_Time</th>\n",
       "      <th>Sit_Time</th>\n",
       "      <th>Times_Stepped</th>\n",
       "      <th>First_Stepin_Time</th>\n",
       "      <th>First_Stepout_Time</th>\n",
       "      <th>Last_Stepin_Time</th>\n",
       "      <th>Last_Stepout_Time</th>\n",
       "      <th>Weight_Variance</th>\n",
       "    </tr>\n",
       "  </thead>\n",
       "  <tbody>\n",
       "    <tr>\n",
       "      <th>0</th>\n",
       "      <td>0</td>\n",
       "      <td>VA00000000000017</td>\n",
       "      <td>RXZlbnRJbmZvcm1hdGlvbjo0OWQ4M2I3MS1kNDZmLTRiYj...</td>\n",
       "      <td>2020-09-05 05:56:11+00:00</td>\n",
       "      <td>Ryan</td>\n",
       "      <td>7357.0</td>\n",
       "      <td>urination</td>\n",
       "      <td>1</td>\n",
       "      <td>0</td>\n",
       "      <td>2020-09-05</td>\n",
       "      <td>...</td>\n",
       "      <td>0.291447</td>\n",
       "      <td>0.025000</td>\n",
       "      <td>44.299942</td>\n",
       "      <td>44.274942</td>\n",
       "      <td>1</td>\n",
       "      <td>0.025000</td>\n",
       "      <td>44.299942</td>\n",
       "      <td>0.025000</td>\n",
       "      <td>44.299942</td>\n",
       "      <td>2.087515e+05</td>\n",
       "    </tr>\n",
       "    <tr>\n",
       "      <th>1</th>\n",
       "      <td>1</td>\n",
       "      <td>VA00000000000017</td>\n",
       "      <td>RXZlbnRJbmZvcm1hdGlvbjo0YmI3ZDc5YS0wNzMwLTQ0MT...</td>\n",
       "      <td>2020-07-18 09:41:37+00:00</td>\n",
       "      <td>Ryan</td>\n",
       "      <td>6935.0</td>\n",
       "      <td>urination</td>\n",
       "      <td>1</td>\n",
       "      <td>1</td>\n",
       "      <td>2020-07-18</td>\n",
       "      <td>...</td>\n",
       "      <td>0.470313</td>\n",
       "      <td>0.025000</td>\n",
       "      <td>52.550000</td>\n",
       "      <td>52.525000</td>\n",
       "      <td>1</td>\n",
       "      <td>0.025000</td>\n",
       "      <td>52.550000</td>\n",
       "      <td>0.025000</td>\n",
       "      <td>52.550000</td>\n",
       "      <td>1.586288e+05</td>\n",
       "    </tr>\n",
       "    <tr>\n",
       "      <th>2</th>\n",
       "      <td>2</td>\n",
       "      <td>VA00000000000017</td>\n",
       "      <td>RXZlbnRJbmZvcm1hdGlvbjo0ZTBhMDVhOC0wZmI2LTQ2MG...</td>\n",
       "      <td>2020-09-03 10:43:43+00:00</td>\n",
       "      <td>Ryan</td>\n",
       "      <td>7357.0</td>\n",
       "      <td>urination</td>\n",
       "      <td>1</td>\n",
       "      <td>0</td>\n",
       "      <td>2020-09-03</td>\n",
       "      <td>...</td>\n",
       "      <td>0.429688</td>\n",
       "      <td>1.374937</td>\n",
       "      <td>45.274949</td>\n",
       "      <td>43.900012</td>\n",
       "      <td>1</td>\n",
       "      <td>1.374937</td>\n",
       "      <td>45.274949</td>\n",
       "      <td>1.374937</td>\n",
       "      <td>45.274949</td>\n",
       "      <td>2.463771e+05</td>\n",
       "    </tr>\n",
       "    <tr>\n",
       "      <th>3</th>\n",
       "      <td>3</td>\n",
       "      <td>VA00000000000017</td>\n",
       "      <td>RXZlbnRJbmZvcm1hdGlvbjo1NGEwMTg2My01NDhjLTRhYT...</td>\n",
       "      <td>2020-09-01 07:02:05+00:00</td>\n",
       "      <td>Ryan</td>\n",
       "      <td>6983.0</td>\n",
       "      <td>non_elimination</td>\n",
       "      <td>1</td>\n",
       "      <td>0</td>\n",
       "      <td>2020-09-01</td>\n",
       "      <td>...</td>\n",
       "      <td>0.168675</td>\n",
       "      <td>0.025000</td>\n",
       "      <td>10.849935</td>\n",
       "      <td>10.824935</td>\n",
       "      <td>1</td>\n",
       "      <td>0.025000</td>\n",
       "      <td>10.849935</td>\n",
       "      <td>0.025000</td>\n",
       "      <td>10.849935</td>\n",
       "      <td>1.770790e+06</td>\n",
       "    </tr>\n",
       "    <tr>\n",
       "      <th>4</th>\n",
       "      <td>4</td>\n",
       "      <td>VA00000000000017</td>\n",
       "      <td>RXZlbnRJbmZvcm1hdGlvbjo1YzQwMzE4MS1lNzhkLTQ3Nz...</td>\n",
       "      <td>2020-08-08 01:47:11+00:00</td>\n",
       "      <td>Ryan</td>\n",
       "      <td>7017.0</td>\n",
       "      <td>urination</td>\n",
       "      <td>1</td>\n",
       "      <td>1</td>\n",
       "      <td>2020-08-08</td>\n",
       "      <td>...</td>\n",
       "      <td>0.596481</td>\n",
       "      <td>0.025000</td>\n",
       "      <td>49.150000</td>\n",
       "      <td>49.125000</td>\n",
       "      <td>1</td>\n",
       "      <td>0.025000</td>\n",
       "      <td>49.150000</td>\n",
       "      <td>0.025000</td>\n",
       "      <td>49.150000</td>\n",
       "      <td>1.221349e+05</td>\n",
       "    </tr>\n",
       "    <tr>\n",
       "      <th>...</th>\n",
       "      <td>...</td>\n",
       "      <td>...</td>\n",
       "      <td>...</td>\n",
       "      <td>...</td>\n",
       "      <td>...</td>\n",
       "      <td>...</td>\n",
       "      <td>...</td>\n",
       "      <td>...</td>\n",
       "      <td>...</td>\n",
       "      <td>...</td>\n",
       "      <td>...</td>\n",
       "      <td>...</td>\n",
       "      <td>...</td>\n",
       "      <td>...</td>\n",
       "      <td>...</td>\n",
       "      <td>...</td>\n",
       "      <td>...</td>\n",
       "      <td>...</td>\n",
       "      <td>...</td>\n",
       "      <td>...</td>\n",
       "      <td>...</td>\n",
       "    </tr>\n",
       "    <tr>\n",
       "      <th>13070</th>\n",
       "      <td>13070</td>\n",
       "      <td>VB00000000000192</td>\n",
       "      <td>RXZlbnRJbmZvcm1hdGlvbjplOTY1YzllOC01YWU1LTRmYj...</td>\n",
       "      <td>2021-08-23 20:36:18+00:00</td>\n",
       "      <td>Sparkler</td>\n",
       "      <td>4116.0</td>\n",
       "      <td>urination</td>\n",
       "      <td>1</td>\n",
       "      <td>0</td>\n",
       "      <td>2021-08-24</td>\n",
       "      <td>...</td>\n",
       "      <td>0.822213</td>\n",
       "      <td>0.025000</td>\n",
       "      <td>48.583258</td>\n",
       "      <td>48.558258</td>\n",
       "      <td>1</td>\n",
       "      <td>0.025000</td>\n",
       "      <td>48.583258</td>\n",
       "      <td>0.025000</td>\n",
       "      <td>48.583258</td>\n",
       "      <td>1.028918e+05</td>\n",
       "    </tr>\n",
       "    <tr>\n",
       "      <th>13071</th>\n",
       "      <td>13071</td>\n",
       "      <td>VB00000000000192</td>\n",
       "      <td>RXZlbnRJbmZvcm1hdGlvbjpmNDMxM2YwNi1hNzk0LTQxMG...</td>\n",
       "      <td>2021-04-26 01:29:01+00:00</td>\n",
       "      <td>Sparkler</td>\n",
       "      <td>4604.0</td>\n",
       "      <td>non_elimination</td>\n",
       "      <td>1</td>\n",
       "      <td>0</td>\n",
       "      <td>2021-04-26</td>\n",
       "      <td>...</td>\n",
       "      <td>0.137613</td>\n",
       "      <td>53.392769</td>\n",
       "      <td>71.583398</td>\n",
       "      <td>18.190629</td>\n",
       "      <td>1</td>\n",
       "      <td>53.392769</td>\n",
       "      <td>71.583398</td>\n",
       "      <td>53.392769</td>\n",
       "      <td>71.583398</td>\n",
       "      <td>1.259322e+06</td>\n",
       "    </tr>\n",
       "    <tr>\n",
       "      <th>13072</th>\n",
       "      <td>13072</td>\n",
       "      <td>VB00000000000192</td>\n",
       "      <td>RXZlbnRJbmZvcm1hdGlvbjpmYjQ3YzJkZi03ODY3LTQ3Zm...</td>\n",
       "      <td>2021-04-26 22:47:55+00:00</td>\n",
       "      <td>Sparkler</td>\n",
       "      <td>4416.0</td>\n",
       "      <td>urination</td>\n",
       "      <td>1</td>\n",
       "      <td>0</td>\n",
       "      <td>2021-04-27</td>\n",
       "      <td>...</td>\n",
       "      <td>0.565029</td>\n",
       "      <td>0.025000</td>\n",
       "      <td>77.893402</td>\n",
       "      <td>77.868402</td>\n",
       "      <td>1</td>\n",
       "      <td>0.025000</td>\n",
       "      <td>77.893402</td>\n",
       "      <td>0.025000</td>\n",
       "      <td>77.893402</td>\n",
       "      <td>8.579901e+04</td>\n",
       "    </tr>\n",
       "    <tr>\n",
       "      <th>13073</th>\n",
       "      <td>13073</td>\n",
       "      <td>VB00000000000192</td>\n",
       "      <td>RXZlbnRJbmZvcm1hdGlvbjpmYTY2MzA0OC1kNjQ1LTQ5OD...</td>\n",
       "      <td>2021-09-01 20:15:57+00:00</td>\n",
       "      <td>Sparkler</td>\n",
       "      <td>4386.0</td>\n",
       "      <td>defecation</td>\n",
       "      <td>1</td>\n",
       "      <td>0</td>\n",
       "      <td>2021-09-02</td>\n",
       "      <td>...</td>\n",
       "      <td>0.948808</td>\n",
       "      <td>0.025000</td>\n",
       "      <td>194.742593</td>\n",
       "      <td>194.717593</td>\n",
       "      <td>1</td>\n",
       "      <td>0.025000</td>\n",
       "      <td>194.742593</td>\n",
       "      <td>0.025000</td>\n",
       "      <td>194.742593</td>\n",
       "      <td>3.478798e+04</td>\n",
       "    </tr>\n",
       "    <tr>\n",
       "      <th>13074</th>\n",
       "      <td>13074</td>\n",
       "      <td>VB00000000000192</td>\n",
       "      <td>RXZlbnRJbmZvcm1hdGlvbjpmZTc0ZmZlNS1mZjdhLTRlYj...</td>\n",
       "      <td>2021-10-03 09:45:43+00:00</td>\n",
       "      <td>Sparkler</td>\n",
       "      <td>4510.0</td>\n",
       "      <td>urination</td>\n",
       "      <td>1</td>\n",
       "      <td>0</td>\n",
       "      <td>2021-10-03</td>\n",
       "      <td>...</td>\n",
       "      <td>0.892332</td>\n",
       "      <td>0.025000</td>\n",
       "      <td>84.887078</td>\n",
       "      <td>84.862078</td>\n",
       "      <td>1</td>\n",
       "      <td>0.025000</td>\n",
       "      <td>84.887078</td>\n",
       "      <td>0.025000</td>\n",
       "      <td>84.887078</td>\n",
       "      <td>9.538601e+04</td>\n",
       "    </tr>\n",
       "  </tbody>\n",
       "</table>\n",
       "<p>13075 rows × 26 columns</p>\n",
       "</div>"
      ],
      "text/plain": [
       "       Unnamed: 0         Device_ID  \\\n",
       "0               0  VA00000000000017   \n",
       "1               1  VA00000000000017   \n",
       "2               2  VA00000000000017   \n",
       "3               3  VA00000000000017   \n",
       "4               4  VA00000000000017   \n",
       "...           ...               ...   \n",
       "13070       13070  VB00000000000192   \n",
       "13071       13071  VB00000000000192   \n",
       "13072       13072  VB00000000000192   \n",
       "13073       13073  VB00000000000192   \n",
       "13074       13074  VB00000000000192   \n",
       "\n",
       "                                                Event_ID  \\\n",
       "0      RXZlbnRJbmZvcm1hdGlvbjo0OWQ4M2I3MS1kNDZmLTRiYj...   \n",
       "1      RXZlbnRJbmZvcm1hdGlvbjo0YmI3ZDc5YS0wNzMwLTQ0MT...   \n",
       "2      RXZlbnRJbmZvcm1hdGlvbjo0ZTBhMDVhOC0wZmI2LTQ2MG...   \n",
       "3      RXZlbnRJbmZvcm1hdGlvbjo1NGEwMTg2My01NDhjLTRhYT...   \n",
       "4      RXZlbnRJbmZvcm1hdGlvbjo1YzQwMzE4MS1lNzhkLTQ3Nz...   \n",
       "...                                                  ...   \n",
       "13070  RXZlbnRJbmZvcm1hdGlvbjplOTY1YzllOC01YWU1LTRmYj...   \n",
       "13071  RXZlbnRJbmZvcm1hdGlvbjpmNDMxM2YwNi1hNzk0LTQxMG...   \n",
       "13072  RXZlbnRJbmZvcm1hdGlvbjpmYjQ3YzJkZi03ODY3LTQ3Zm...   \n",
       "13073  RXZlbnRJbmZvcm1hdGlvbjpmYTY2MzA0OC1kNjQ1LTQ5OD...   \n",
       "13074  RXZlbnRJbmZvcm1hdGlvbjpmZTc0ZmZlNS1mZjdhLTRlYj...   \n",
       "\n",
       "               Event_start_time Name_of_cat  Weight_of_cat         Activity  \\\n",
       "0     2020-09-05 05:56:11+00:00        Ryan         7357.0        urination   \n",
       "1     2020-07-18 09:41:37+00:00        Ryan         6935.0        urination   \n",
       "2     2020-09-03 10:43:43+00:00        Ryan         7357.0        urination   \n",
       "3     2020-09-01 07:02:05+00:00        Ryan         6983.0  non_elimination   \n",
       "4     2020-08-08 01:47:11+00:00        Ryan         7017.0        urination   \n",
       "...                         ...         ...            ...              ...   \n",
       "13070 2021-08-23 20:36:18+00:00    Sparkler         4116.0        urination   \n",
       "13071 2021-04-26 01:29:01+00:00    Sparkler         4604.0  non_elimination   \n",
       "13072 2021-04-26 22:47:55+00:00    Sparkler         4416.0        urination   \n",
       "13073 2021-09-01 20:15:57+00:00    Sparkler         4386.0       defecation   \n",
       "13074 2021-10-03 09:45:43+00:00    Sparkler         4510.0        urination   \n",
       "\n",
       "       Cat_In_Box  Synapse_Labeled  Event_Date  ...  Points_Percentage  \\\n",
       "0               1                0  2020-09-05  ...           0.291447   \n",
       "1               1                1  2020-07-18  ...           0.470313   \n",
       "2               1                0  2020-09-03  ...           0.429688   \n",
       "3               1                0  2020-09-01  ...           0.168675   \n",
       "4               1                1  2020-08-08  ...           0.596481   \n",
       "...           ...              ...         ...  ...                ...   \n",
       "13070           1                0  2021-08-24  ...           0.822213   \n",
       "13071           1                0  2021-04-26  ...           0.137613   \n",
       "13072           1                0  2021-04-27  ...           0.565029   \n",
       "13073           1                0  2021-09-02  ...           0.948808   \n",
       "13074           1                0  2021-10-03  ...           0.892332   \n",
       "\n",
       "       Stepping_In_Time  Stepping_Out_Time    Sit_Time  Times_Stepped  \\\n",
       "0              0.025000          44.299942   44.274942              1   \n",
       "1              0.025000          52.550000   52.525000              1   \n",
       "2              1.374937          45.274949   43.900012              1   \n",
       "3              0.025000          10.849935   10.824935              1   \n",
       "4              0.025000          49.150000   49.125000              1   \n",
       "...                 ...                ...         ...            ...   \n",
       "13070          0.025000          48.583258   48.558258              1   \n",
       "13071         53.392769          71.583398   18.190629              1   \n",
       "13072          0.025000          77.893402   77.868402              1   \n",
       "13073          0.025000         194.742593  194.717593              1   \n",
       "13074          0.025000          84.887078   84.862078              1   \n",
       "\n",
       "       First_Stepin_Time  First_Stepout_Time  Last_Stepin_Time  \\\n",
       "0               0.025000           44.299942          0.025000   \n",
       "1               0.025000           52.550000          0.025000   \n",
       "2               1.374937           45.274949          1.374937   \n",
       "3               0.025000           10.849935          0.025000   \n",
       "4               0.025000           49.150000          0.025000   \n",
       "...                  ...                 ...               ...   \n",
       "13070           0.025000           48.583258          0.025000   \n",
       "13071          53.392769           71.583398         53.392769   \n",
       "13072           0.025000           77.893402          0.025000   \n",
       "13073           0.025000          194.742593          0.025000   \n",
       "13074           0.025000           84.887078          0.025000   \n",
       "\n",
       "       Last_Stepout_Time  Weight_Variance  \n",
       "0              44.299942     2.087515e+05  \n",
       "1              52.550000     1.586288e+05  \n",
       "2              45.274949     2.463771e+05  \n",
       "3              10.849935     1.770790e+06  \n",
       "4              49.150000     1.221349e+05  \n",
       "...                  ...              ...  \n",
       "13070          48.583258     1.028918e+05  \n",
       "13071          71.583398     1.259322e+06  \n",
       "13072          77.893402     8.579901e+04  \n",
       "13073         194.742593     3.478798e+04  \n",
       "13074          84.887078     9.538601e+04  \n",
       "\n",
       "[13075 rows x 26 columns]"
      ]
     },
     "execution_count": 2,
     "metadata": {},
     "output_type": "execute_result"
    }
   ],
   "source": [
    "df = pd.read_csv('final.csv')\n",
    "df['Event_start_time'] = pd.to_datetime(df['Event_start_time'] , utc=True)\n",
    "df"
   ]
  },
  {
   "cell_type": "code",
   "execution_count": 3,
   "id": "03e3f8de",
   "metadata": {
    "scrolled": true
   },
   "outputs": [
    {
     "name": "stdout",
     "output_type": "stream",
     "text": [
      "<class 'pandas.core.frame.DataFrame'>\n",
      "RangeIndex: 13075 entries, 0 to 13074\n",
      "Data columns (total 26 columns):\n",
      " #   Column                  Non-Null Count  Dtype              \n",
      "---  ------                  --------------  -----              \n",
      " 0   Unnamed: 0              13075 non-null  int64              \n",
      " 1   Device_ID               13075 non-null  object             \n",
      " 2   Event_ID                13075 non-null  object             \n",
      " 3   Event_start_time        13075 non-null  datetime64[ns, UTC]\n",
      " 4   Name_of_cat             12931 non-null  object             \n",
      " 5   Weight_of_cat           13075 non-null  float64            \n",
      " 6   Activity                13072 non-null  object             \n",
      " 7   Cat_In_Box              13075 non-null  int64              \n",
      " 8   Synapse_Labeled         13075 non-null  int64              \n",
      " 9   Event_Date              13075 non-null  object             \n",
      " 10  Event_start_time_hour   13075 non-null  int64              \n",
      " 11  Given_Tare_Weight       12062 non-null  float64            \n",
      " 12  Activity_Duration       13075 non-null  float64            \n",
      " 13  Calculated_Tare_Weight  13075 non-null  float64            \n",
      " 14  Weight_With_Cat         13075 non-null  float64            \n",
      " 15  Points_Count            13075 non-null  int64              \n",
      " 16  Points_Percentage       13075 non-null  float64            \n",
      " 17  Stepping_In_Time        13075 non-null  float64            \n",
      " 18  Stepping_Out_Time       13075 non-null  float64            \n",
      " 19  Sit_Time                13075 non-null  float64            \n",
      " 20  Times_Stepped           13075 non-null  int64              \n",
      " 21  First_Stepin_Time       13075 non-null  float64            \n",
      " 22  First_Stepout_Time      13075 non-null  float64            \n",
      " 23  Last_Stepin_Time        13075 non-null  float64            \n",
      " 24  Last_Stepout_Time       13075 non-null  float64            \n",
      " 25  Weight_Variance         13075 non-null  float64            \n",
      "dtypes: datetime64[ns, UTC](1), float64(14), int64(6), object(5)\n",
      "memory usage: 2.6+ MB\n"
     ]
    }
   ],
   "source": [
    "df.info()"
   ]
  },
  {
   "cell_type": "markdown",
   "id": "58e8e5b8",
   "metadata": {},
   "source": [
    "# Filters"
   ]
  },
  {
   "cell_type": "code",
   "execution_count": 4,
   "id": "a02176c8",
   "metadata": {
    "scrolled": true
   },
   "outputs": [
    {
     "data": {
      "text/html": [
       "<div>\n",
       "<style scoped>\n",
       "    .dataframe tbody tr th:only-of-type {\n",
       "        vertical-align: middle;\n",
       "    }\n",
       "\n",
       "    .dataframe tbody tr th {\n",
       "        vertical-align: top;\n",
       "    }\n",
       "\n",
       "    .dataframe thead th {\n",
       "        text-align: right;\n",
       "    }\n",
       "</style>\n",
       "<table border=\"1\" class=\"dataframe\">\n",
       "  <thead>\n",
       "    <tr style=\"text-align: right;\">\n",
       "      <th></th>\n",
       "      <th>level_0</th>\n",
       "      <th>index</th>\n",
       "      <th>Unnamed: 0</th>\n",
       "      <th>Device_ID</th>\n",
       "      <th>Event_ID</th>\n",
       "      <th>Event_start_time</th>\n",
       "      <th>Name_of_cat</th>\n",
       "      <th>Weight_of_cat</th>\n",
       "      <th>Activity</th>\n",
       "      <th>Cat_In_Box</th>\n",
       "      <th>...</th>\n",
       "      <th>Stepping_Out_Time</th>\n",
       "      <th>Sit_Time</th>\n",
       "      <th>Times_Stepped</th>\n",
       "      <th>First_Stepin_Time</th>\n",
       "      <th>First_Stepout_Time</th>\n",
       "      <th>Last_Stepin_Time</th>\n",
       "      <th>Last_Stepout_Time</th>\n",
       "      <th>Weight_Variance</th>\n",
       "      <th>Elimination</th>\n",
       "      <th>Urination</th>\n",
       "    </tr>\n",
       "  </thead>\n",
       "  <tbody>\n",
       "    <tr>\n",
       "      <th>0</th>\n",
       "      <td>0</td>\n",
       "      <td>0</td>\n",
       "      <td>0</td>\n",
       "      <td>VA00000000000017</td>\n",
       "      <td>RXZlbnRJbmZvcm1hdGlvbjo0OWQ4M2I3MS1kNDZmLTRiYj...</td>\n",
       "      <td>2020-09-05 05:56:11+00:00</td>\n",
       "      <td>Ryan</td>\n",
       "      <td>7357.0</td>\n",
       "      <td>urination</td>\n",
       "      <td>1</td>\n",
       "      <td>...</td>\n",
       "      <td>44.299942</td>\n",
       "      <td>44.274942</td>\n",
       "      <td>1</td>\n",
       "      <td>0.025000</td>\n",
       "      <td>44.299942</td>\n",
       "      <td>0.025000</td>\n",
       "      <td>44.299942</td>\n",
       "      <td>2.087515e+05</td>\n",
       "      <td>1</td>\n",
       "      <td>1</td>\n",
       "    </tr>\n",
       "    <tr>\n",
       "      <th>1</th>\n",
       "      <td>1</td>\n",
       "      <td>1</td>\n",
       "      <td>1</td>\n",
       "      <td>VA00000000000017</td>\n",
       "      <td>RXZlbnRJbmZvcm1hdGlvbjo0YmI3ZDc5YS0wNzMwLTQ0MT...</td>\n",
       "      <td>2020-07-18 09:41:37+00:00</td>\n",
       "      <td>Ryan</td>\n",
       "      <td>6935.0</td>\n",
       "      <td>urination</td>\n",
       "      <td>1</td>\n",
       "      <td>...</td>\n",
       "      <td>52.550000</td>\n",
       "      <td>52.525000</td>\n",
       "      <td>1</td>\n",
       "      <td>0.025000</td>\n",
       "      <td>52.550000</td>\n",
       "      <td>0.025000</td>\n",
       "      <td>52.550000</td>\n",
       "      <td>1.586288e+05</td>\n",
       "      <td>1</td>\n",
       "      <td>1</td>\n",
       "    </tr>\n",
       "    <tr>\n",
       "      <th>2</th>\n",
       "      <td>2</td>\n",
       "      <td>2</td>\n",
       "      <td>2</td>\n",
       "      <td>VA00000000000017</td>\n",
       "      <td>RXZlbnRJbmZvcm1hdGlvbjo0ZTBhMDVhOC0wZmI2LTQ2MG...</td>\n",
       "      <td>2020-09-03 10:43:43+00:00</td>\n",
       "      <td>Ryan</td>\n",
       "      <td>7357.0</td>\n",
       "      <td>urination</td>\n",
       "      <td>1</td>\n",
       "      <td>...</td>\n",
       "      <td>45.274949</td>\n",
       "      <td>43.900012</td>\n",
       "      <td>1</td>\n",
       "      <td>1.374937</td>\n",
       "      <td>45.274949</td>\n",
       "      <td>1.374937</td>\n",
       "      <td>45.274949</td>\n",
       "      <td>2.463771e+05</td>\n",
       "      <td>1</td>\n",
       "      <td>1</td>\n",
       "    </tr>\n",
       "    <tr>\n",
       "      <th>3</th>\n",
       "      <td>3</td>\n",
       "      <td>3</td>\n",
       "      <td>3</td>\n",
       "      <td>VA00000000000017</td>\n",
       "      <td>RXZlbnRJbmZvcm1hdGlvbjo1NGEwMTg2My01NDhjLTRhYT...</td>\n",
       "      <td>2020-09-01 07:02:05+00:00</td>\n",
       "      <td>Ryan</td>\n",
       "      <td>6983.0</td>\n",
       "      <td>non_elimination</td>\n",
       "      <td>1</td>\n",
       "      <td>...</td>\n",
       "      <td>10.849935</td>\n",
       "      <td>10.824935</td>\n",
       "      <td>1</td>\n",
       "      <td>0.025000</td>\n",
       "      <td>10.849935</td>\n",
       "      <td>0.025000</td>\n",
       "      <td>10.849935</td>\n",
       "      <td>1.770790e+06</td>\n",
       "      <td>0</td>\n",
       "      <td>0</td>\n",
       "    </tr>\n",
       "    <tr>\n",
       "      <th>4</th>\n",
       "      <td>4</td>\n",
       "      <td>4</td>\n",
       "      <td>4</td>\n",
       "      <td>VA00000000000017</td>\n",
       "      <td>RXZlbnRJbmZvcm1hdGlvbjo1YzQwMzE4MS1lNzhkLTQ3Nz...</td>\n",
       "      <td>2020-08-08 01:47:11+00:00</td>\n",
       "      <td>Ryan</td>\n",
       "      <td>7017.0</td>\n",
       "      <td>urination</td>\n",
       "      <td>1</td>\n",
       "      <td>...</td>\n",
       "      <td>49.150000</td>\n",
       "      <td>49.125000</td>\n",
       "      <td>1</td>\n",
       "      <td>0.025000</td>\n",
       "      <td>49.150000</td>\n",
       "      <td>0.025000</td>\n",
       "      <td>49.150000</td>\n",
       "      <td>1.221349e+05</td>\n",
       "      <td>1</td>\n",
       "      <td>1</td>\n",
       "    </tr>\n",
       "    <tr>\n",
       "      <th>...</th>\n",
       "      <td>...</td>\n",
       "      <td>...</td>\n",
       "      <td>...</td>\n",
       "      <td>...</td>\n",
       "      <td>...</td>\n",
       "      <td>...</td>\n",
       "      <td>...</td>\n",
       "      <td>...</td>\n",
       "      <td>...</td>\n",
       "      <td>...</td>\n",
       "      <td>...</td>\n",
       "      <td>...</td>\n",
       "      <td>...</td>\n",
       "      <td>...</td>\n",
       "      <td>...</td>\n",
       "      <td>...</td>\n",
       "      <td>...</td>\n",
       "      <td>...</td>\n",
       "      <td>...</td>\n",
       "      <td>...</td>\n",
       "      <td>...</td>\n",
       "    </tr>\n",
       "    <tr>\n",
       "      <th>12513</th>\n",
       "      <td>13067</td>\n",
       "      <td>13070</td>\n",
       "      <td>13070</td>\n",
       "      <td>VB00000000000192</td>\n",
       "      <td>RXZlbnRJbmZvcm1hdGlvbjplOTY1YzllOC01YWU1LTRmYj...</td>\n",
       "      <td>2021-08-23 20:36:18+00:00</td>\n",
       "      <td>Sparkler</td>\n",
       "      <td>4116.0</td>\n",
       "      <td>urination</td>\n",
       "      <td>1</td>\n",
       "      <td>...</td>\n",
       "      <td>48.583258</td>\n",
       "      <td>48.558258</td>\n",
       "      <td>1</td>\n",
       "      <td>0.025000</td>\n",
       "      <td>48.583258</td>\n",
       "      <td>0.025000</td>\n",
       "      <td>48.583258</td>\n",
       "      <td>1.028918e+05</td>\n",
       "      <td>1</td>\n",
       "      <td>1</td>\n",
       "    </tr>\n",
       "    <tr>\n",
       "      <th>12514</th>\n",
       "      <td>13068</td>\n",
       "      <td>13071</td>\n",
       "      <td>13071</td>\n",
       "      <td>VB00000000000192</td>\n",
       "      <td>RXZlbnRJbmZvcm1hdGlvbjpmNDMxM2YwNi1hNzk0LTQxMG...</td>\n",
       "      <td>2021-04-26 01:29:01+00:00</td>\n",
       "      <td>Sparkler</td>\n",
       "      <td>4604.0</td>\n",
       "      <td>non_elimination</td>\n",
       "      <td>1</td>\n",
       "      <td>...</td>\n",
       "      <td>71.583398</td>\n",
       "      <td>18.190629</td>\n",
       "      <td>1</td>\n",
       "      <td>53.392769</td>\n",
       "      <td>71.583398</td>\n",
       "      <td>53.392769</td>\n",
       "      <td>71.583398</td>\n",
       "      <td>1.259322e+06</td>\n",
       "      <td>0</td>\n",
       "      <td>0</td>\n",
       "    </tr>\n",
       "    <tr>\n",
       "      <th>12515</th>\n",
       "      <td>13069</td>\n",
       "      <td>13072</td>\n",
       "      <td>13072</td>\n",
       "      <td>VB00000000000192</td>\n",
       "      <td>RXZlbnRJbmZvcm1hdGlvbjpmYjQ3YzJkZi03ODY3LTQ3Zm...</td>\n",
       "      <td>2021-04-26 22:47:55+00:00</td>\n",
       "      <td>Sparkler</td>\n",
       "      <td>4416.0</td>\n",
       "      <td>urination</td>\n",
       "      <td>1</td>\n",
       "      <td>...</td>\n",
       "      <td>77.893402</td>\n",
       "      <td>77.868402</td>\n",
       "      <td>1</td>\n",
       "      <td>0.025000</td>\n",
       "      <td>77.893402</td>\n",
       "      <td>0.025000</td>\n",
       "      <td>77.893402</td>\n",
       "      <td>8.579901e+04</td>\n",
       "      <td>1</td>\n",
       "      <td>1</td>\n",
       "    </tr>\n",
       "    <tr>\n",
       "      <th>12516</th>\n",
       "      <td>13070</td>\n",
       "      <td>13073</td>\n",
       "      <td>13073</td>\n",
       "      <td>VB00000000000192</td>\n",
       "      <td>RXZlbnRJbmZvcm1hdGlvbjpmYTY2MzA0OC1kNjQ1LTQ5OD...</td>\n",
       "      <td>2021-09-01 20:15:57+00:00</td>\n",
       "      <td>Sparkler</td>\n",
       "      <td>4386.0</td>\n",
       "      <td>defecation</td>\n",
       "      <td>1</td>\n",
       "      <td>...</td>\n",
       "      <td>194.742593</td>\n",
       "      <td>194.717593</td>\n",
       "      <td>1</td>\n",
       "      <td>0.025000</td>\n",
       "      <td>194.742593</td>\n",
       "      <td>0.025000</td>\n",
       "      <td>194.742593</td>\n",
       "      <td>3.478798e+04</td>\n",
       "      <td>1</td>\n",
       "      <td>0</td>\n",
       "    </tr>\n",
       "    <tr>\n",
       "      <th>12517</th>\n",
       "      <td>13071</td>\n",
       "      <td>13074</td>\n",
       "      <td>13074</td>\n",
       "      <td>VB00000000000192</td>\n",
       "      <td>RXZlbnRJbmZvcm1hdGlvbjpmZTc0ZmZlNS1mZjdhLTRlYj...</td>\n",
       "      <td>2021-10-03 09:45:43+00:00</td>\n",
       "      <td>Sparkler</td>\n",
       "      <td>4510.0</td>\n",
       "      <td>urination</td>\n",
       "      <td>1</td>\n",
       "      <td>...</td>\n",
       "      <td>84.887078</td>\n",
       "      <td>84.862078</td>\n",
       "      <td>1</td>\n",
       "      <td>0.025000</td>\n",
       "      <td>84.887078</td>\n",
       "      <td>0.025000</td>\n",
       "      <td>84.887078</td>\n",
       "      <td>9.538601e+04</td>\n",
       "      <td>1</td>\n",
       "      <td>1</td>\n",
       "    </tr>\n",
       "  </tbody>\n",
       "</table>\n",
       "<p>12518 rows × 30 columns</p>\n",
       "</div>"
      ],
      "text/plain": [
       "       level_0  index  Unnamed: 0         Device_ID  \\\n",
       "0            0      0           0  VA00000000000017   \n",
       "1            1      1           1  VA00000000000017   \n",
       "2            2      2           2  VA00000000000017   \n",
       "3            3      3           3  VA00000000000017   \n",
       "4            4      4           4  VA00000000000017   \n",
       "...        ...    ...         ...               ...   \n",
       "12513    13067  13070       13070  VB00000000000192   \n",
       "12514    13068  13071       13071  VB00000000000192   \n",
       "12515    13069  13072       13072  VB00000000000192   \n",
       "12516    13070  13073       13073  VB00000000000192   \n",
       "12517    13071  13074       13074  VB00000000000192   \n",
       "\n",
       "                                                Event_ID  \\\n",
       "0      RXZlbnRJbmZvcm1hdGlvbjo0OWQ4M2I3MS1kNDZmLTRiYj...   \n",
       "1      RXZlbnRJbmZvcm1hdGlvbjo0YmI3ZDc5YS0wNzMwLTQ0MT...   \n",
       "2      RXZlbnRJbmZvcm1hdGlvbjo0ZTBhMDVhOC0wZmI2LTQ2MG...   \n",
       "3      RXZlbnRJbmZvcm1hdGlvbjo1NGEwMTg2My01NDhjLTRhYT...   \n",
       "4      RXZlbnRJbmZvcm1hdGlvbjo1YzQwMzE4MS1lNzhkLTQ3Nz...   \n",
       "...                                                  ...   \n",
       "12513  RXZlbnRJbmZvcm1hdGlvbjplOTY1YzllOC01YWU1LTRmYj...   \n",
       "12514  RXZlbnRJbmZvcm1hdGlvbjpmNDMxM2YwNi1hNzk0LTQxMG...   \n",
       "12515  RXZlbnRJbmZvcm1hdGlvbjpmYjQ3YzJkZi03ODY3LTQ3Zm...   \n",
       "12516  RXZlbnRJbmZvcm1hdGlvbjpmYTY2MzA0OC1kNjQ1LTQ5OD...   \n",
       "12517  RXZlbnRJbmZvcm1hdGlvbjpmZTc0ZmZlNS1mZjdhLTRlYj...   \n",
       "\n",
       "               Event_start_time Name_of_cat  Weight_of_cat         Activity  \\\n",
       "0     2020-09-05 05:56:11+00:00        Ryan         7357.0        urination   \n",
       "1     2020-07-18 09:41:37+00:00        Ryan         6935.0        urination   \n",
       "2     2020-09-03 10:43:43+00:00        Ryan         7357.0        urination   \n",
       "3     2020-09-01 07:02:05+00:00        Ryan         6983.0  non_elimination   \n",
       "4     2020-08-08 01:47:11+00:00        Ryan         7017.0        urination   \n",
       "...                         ...         ...            ...              ...   \n",
       "12513 2021-08-23 20:36:18+00:00    Sparkler         4116.0        urination   \n",
       "12514 2021-04-26 01:29:01+00:00    Sparkler         4604.0  non_elimination   \n",
       "12515 2021-04-26 22:47:55+00:00    Sparkler         4416.0        urination   \n",
       "12516 2021-09-01 20:15:57+00:00    Sparkler         4386.0       defecation   \n",
       "12517 2021-10-03 09:45:43+00:00    Sparkler         4510.0        urination   \n",
       "\n",
       "       Cat_In_Box  ...  Stepping_Out_Time    Sit_Time  Times_Stepped  \\\n",
       "0               1  ...          44.299942   44.274942              1   \n",
       "1               1  ...          52.550000   52.525000              1   \n",
       "2               1  ...          45.274949   43.900012              1   \n",
       "3               1  ...          10.849935   10.824935              1   \n",
       "4               1  ...          49.150000   49.125000              1   \n",
       "...           ...  ...                ...         ...            ...   \n",
       "12513           1  ...          48.583258   48.558258              1   \n",
       "12514           1  ...          71.583398   18.190629              1   \n",
       "12515           1  ...          77.893402   77.868402              1   \n",
       "12516           1  ...         194.742593  194.717593              1   \n",
       "12517           1  ...          84.887078   84.862078              1   \n",
       "\n",
       "       First_Stepin_Time  First_Stepout_Time  Last_Stepin_Time  \\\n",
       "0               0.025000           44.299942          0.025000   \n",
       "1               0.025000           52.550000          0.025000   \n",
       "2               1.374937           45.274949          1.374937   \n",
       "3               0.025000           10.849935          0.025000   \n",
       "4               0.025000           49.150000          0.025000   \n",
       "...                  ...                 ...               ...   \n",
       "12513           0.025000           48.583258          0.025000   \n",
       "12514          53.392769           71.583398         53.392769   \n",
       "12515           0.025000           77.893402          0.025000   \n",
       "12516           0.025000          194.742593          0.025000   \n",
       "12517           0.025000           84.887078          0.025000   \n",
       "\n",
       "       Last_Stepout_Time  Weight_Variance  Elimination  Urination  \n",
       "0              44.299942     2.087515e+05            1          1  \n",
       "1              52.550000     1.586288e+05            1          1  \n",
       "2              45.274949     2.463771e+05            1          1  \n",
       "3              10.849935     1.770790e+06            0          0  \n",
       "4              49.150000     1.221349e+05            1          1  \n",
       "...                  ...              ...          ...        ...  \n",
       "12513          48.583258     1.028918e+05            1          1  \n",
       "12514          71.583398     1.259322e+06            0          0  \n",
       "12515          77.893402     8.579901e+04            1          1  \n",
       "12516         194.742593     3.478798e+04            1          0  \n",
       "12517          84.887078     9.538601e+04            1          1  \n",
       "\n",
       "[12518 rows x 30 columns]"
      ]
     },
     "execution_count": 4,
     "metadata": {},
     "output_type": "execute_result"
    }
   ],
   "source": [
    "df = df[df['Activity'].notnull()].reset_index()\n",
    "df = df[(df['Device_ID']!='VB00000000000171') & (df['Name_of_cat']!='Azure')].reset_index()\n",
    "#df = df[df['Name_of_cat'].notnull()]\n",
    "#df = df[df['Cat_In_Box'] == 1].reset_index()\n",
    "df['Elimination'] = df['Activity'].apply(lambda x: 0 if(x=='non_elimination') else 1)\n",
    "df['Urination'] = df['Activity'].apply(lambda x: 1 if(x=='urination') else 0)\n",
    "df"
   ]
  },
  {
   "cell_type": "markdown",
   "id": "5e25bab0",
   "metadata": {},
   "source": [
    "## Correlation Heat Map"
   ]
  },
  {
   "cell_type": "code",
   "execution_count": 5,
   "id": "90ae920d",
   "metadata": {
    "scrolled": false
   },
   "outputs": [
    {
     "data": {
      "text/plain": [
       "<AxesSubplot:>"
      ]
     },
     "execution_count": 5,
     "metadata": {},
     "output_type": "execute_result"
    },
    {
     "data": {
      "image/png": "[encoded data removed]",
      "text/plain": [
       "<Figure size 720x504 with 2 Axes>"
      ]
     },
     "metadata": {
      "needs_background": "light"
     },
     "output_type": "display_data"
    }
   ],
   "source": [
    "plt.figure(figsize=(10,7))\n",
    "cor = df[['Device_ID',\n",
    "       'Event_start_time', 'Name_of_cat', 'Weight_of_cat', 'Activity',\n",
    "       'Event_start_time_hour',\n",
    "       'Activity_Duration', 'Calculated_Tare_Weight',\n",
    "       'Points_Count', 'Points_Percentage',\n",
    "       'Stepping_In_Time', 'Stepping_Out_Time', 'Sit_Time', 'Times_Stepped',\n",
    "       'Weight_Variance', 'Elimination', 'Urination']].corr()\n",
    "sns.heatmap(cor, cmap = 'viridis',annot=True)"
   ]
  },
  {
   "cell_type": "markdown",
   "id": "0bc678df",
   "metadata": {},
   "source": [
    "# First Model - To classify Elimination and Non-Elimination"
   ]
  },
  {
   "cell_type": "markdown",
   "id": "44c6497a",
   "metadata": {},
   "source": [
    "## Featues Selection for X and y"
   ]
  },
  {
   "cell_type": "code",
   "execution_count": 6,
   "id": "cef240f7",
   "metadata": {},
   "outputs": [],
   "source": [
    "X1 = df[['Sit_Time', 'Points_Count', 'Points_Percentage', 'Weight_Variance', 'Weight_of_cat', 'Stepping_In_Time', 'Times_Stepped', 'Event_start_time_hour']]\n",
    "y1 = df['Elimination']"
   ]
  },
  {
   "cell_type": "markdown",
   "id": "ec869527",
   "metadata": {},
   "source": [
    "## Encoding Categorical Variable"
   ]
  },
  {
   "cell_type": "code",
   "execution_count": 7,
   "id": "05808685",
   "metadata": {
    "scrolled": false
   },
   "outputs": [
    {
     "name": "stderr",
     "output_type": "stream",
     "text": [
      "C:\\Users\\kaushik.agrawal\\Anaconda3\\lib\\site-packages\\pandas\\core\\frame.py:3678: SettingWithCopyWarning: \n",
      "A value is trying to be set on a copy of a slice from a DataFrame.\n",
      "Try using .loc[row_indexer,col_indexer] = value instead\n",
      "\n",
      "See the caveats in the documentation: https://pandas.pydata.org/pandas-docs/stable/user_guide/indexing.html#returning-a-view-versus-a-copy\n",
      "  self[col] = igetitem(value, i)\n"
     ]
    }
   ],
   "source": [
    "from sklearn.preprocessing import OneHotEncoder\n",
    "from seaborn import load_dataset\n",
    "\n",
    "ohe = OneHotEncoder()\n",
    "transformed = ohe.fit_transform(X1[['Event_start_time_hour']])\n",
    "\n",
    "X1[ohe.categories_[0]] = transformed.toarray()\n",
    "X1 = X1.drop(columns = ['Event_start_time_hour'])\n",
    "X1 = X1.drop(columns = [0])"
   ]
  },
  {
   "cell_type": "markdown",
   "id": "f802a775",
   "metadata": {},
   "source": [
    "## Splitting Train and Test set in ratio of 80%, 20% respectively"
   ]
  },
  {
   "cell_type": "code",
   "execution_count": 8,
   "id": "e3a6ee33",
   "metadata": {},
   "outputs": [],
   "source": [
    "from sklearn.model_selection import train_test_split\n",
    "X1_train, X1_test, y1_train, y1_test = train_test_split(X1, y1, test_size=0.2, random_state=10)"
   ]
  },
  {
   "cell_type": "code",
   "execution_count": 9,
   "id": "26b44c6d",
   "metadata": {
    "scrolled": true
   },
   "outputs": [
    {
     "data": {
      "text/html": [
       "<div>\n",
       "<style scoped>\n",
       "    .dataframe tbody tr th:only-of-type {\n",
       "        vertical-align: middle;\n",
       "    }\n",
       "\n",
       "    .dataframe tbody tr th {\n",
       "        vertical-align: top;\n",
       "    }\n",
       "\n",
       "    .dataframe thead th {\n",
       "        text-align: right;\n",
       "    }\n",
       "</style>\n",
       "<table border=\"1\" class=\"dataframe\">\n",
       "  <thead>\n",
       "    <tr style=\"text-align: right;\">\n",
       "      <th></th>\n",
       "      <th>Sit_Time</th>\n",
       "      <th>Points_Count</th>\n",
       "      <th>Points_Percentage</th>\n",
       "      <th>Weight_Variance</th>\n",
       "      <th>Weight_of_cat</th>\n",
       "      <th>Stepping_In_Time</th>\n",
       "      <th>Times_Stepped</th>\n",
       "      <th>1</th>\n",
       "      <th>2</th>\n",
       "      <th>3</th>\n",
       "      <th>...</th>\n",
       "      <th>14</th>\n",
       "      <th>15</th>\n",
       "      <th>16</th>\n",
       "      <th>17</th>\n",
       "      <th>18</th>\n",
       "      <th>19</th>\n",
       "      <th>20</th>\n",
       "      <th>21</th>\n",
       "      <th>22</th>\n",
       "      <th>23</th>\n",
       "    </tr>\n",
       "  </thead>\n",
       "  <tbody>\n",
       "    <tr>\n",
       "      <th>9090</th>\n",
       "      <td>59.374953</td>\n",
       "      <td>2376</td>\n",
       "      <td>0.495000</td>\n",
       "      <td>7.318870e+04</td>\n",
       "      <td>3025.0</td>\n",
       "      <td>0.025000</td>\n",
       "      <td>1</td>\n",
       "      <td>0.0</td>\n",
       "      <td>0.0</td>\n",
       "      <td>1.0</td>\n",
       "      <td>...</td>\n",
       "      <td>0.0</td>\n",
       "      <td>0.0</td>\n",
       "      <td>0.0</td>\n",
       "      <td>0.0</td>\n",
       "      <td>0.0</td>\n",
       "      <td>0.0</td>\n",
       "      <td>0.0</td>\n",
       "      <td>0.0</td>\n",
       "      <td>0.0</td>\n",
       "      <td>0.0</td>\n",
       "    </tr>\n",
       "    <tr>\n",
       "      <th>4428</th>\n",
       "      <td>38.849932</td>\n",
       "      <td>1555</td>\n",
       "      <td>0.391885</td>\n",
       "      <td>8.728128e+04</td>\n",
       "      <td>4479.0</td>\n",
       "      <td>0.025000</td>\n",
       "      <td>1</td>\n",
       "      <td>0.0</td>\n",
       "      <td>0.0</td>\n",
       "      <td>0.0</td>\n",
       "      <td>...</td>\n",
       "      <td>1.0</td>\n",
       "      <td>0.0</td>\n",
       "      <td>0.0</td>\n",
       "      <td>0.0</td>\n",
       "      <td>0.0</td>\n",
       "      <td>0.0</td>\n",
       "      <td>0.0</td>\n",
       "      <td>0.0</td>\n",
       "      <td>0.0</td>\n",
       "      <td>0.0</td>\n",
       "    </tr>\n",
       "    <tr>\n",
       "      <th>2145</th>\n",
       "      <td>0.000000</td>\n",
       "      <td>3520</td>\n",
       "      <td>1.000000</td>\n",
       "      <td>3.557657e+06</td>\n",
       "      <td>4243.0</td>\n",
       "      <td>0.000000</td>\n",
       "      <td>0</td>\n",
       "      <td>0.0</td>\n",
       "      <td>0.0</td>\n",
       "      <td>0.0</td>\n",
       "      <td>...</td>\n",
       "      <td>1.0</td>\n",
       "      <td>0.0</td>\n",
       "      <td>0.0</td>\n",
       "      <td>0.0</td>\n",
       "      <td>0.0</td>\n",
       "      <td>0.0</td>\n",
       "      <td>0.0</td>\n",
       "      <td>0.0</td>\n",
       "      <td>0.0</td>\n",
       "      <td>0.0</td>\n",
       "    </tr>\n",
       "    <tr>\n",
       "      <th>10745</th>\n",
       "      <td>42.616376</td>\n",
       "      <td>1715</td>\n",
       "      <td>0.799907</td>\n",
       "      <td>2.807068e+05</td>\n",
       "      <td>4429.0</td>\n",
       "      <td>0.820496</td>\n",
       "      <td>1</td>\n",
       "      <td>0.0</td>\n",
       "      <td>0.0</td>\n",
       "      <td>0.0</td>\n",
       "      <td>...</td>\n",
       "      <td>0.0</td>\n",
       "      <td>0.0</td>\n",
       "      <td>0.0</td>\n",
       "      <td>0.0</td>\n",
       "      <td>0.0</td>\n",
       "      <td>0.0</td>\n",
       "      <td>0.0</td>\n",
       "      <td>0.0</td>\n",
       "      <td>0.0</td>\n",
       "      <td>0.0</td>\n",
       "    </tr>\n",
       "    <tr>\n",
       "      <th>1239</th>\n",
       "      <td>22.299948</td>\n",
       "      <td>915</td>\n",
       "      <td>0.269752</td>\n",
       "      <td>2.135172e+05</td>\n",
       "      <td>5192.0</td>\n",
       "      <td>0.025000</td>\n",
       "      <td>1</td>\n",
       "      <td>0.0</td>\n",
       "      <td>0.0</td>\n",
       "      <td>0.0</td>\n",
       "      <td>...</td>\n",
       "      <td>0.0</td>\n",
       "      <td>0.0</td>\n",
       "      <td>0.0</td>\n",
       "      <td>0.0</td>\n",
       "      <td>0.0</td>\n",
       "      <td>0.0</td>\n",
       "      <td>0.0</td>\n",
       "      <td>0.0</td>\n",
       "      <td>0.0</td>\n",
       "      <td>1.0</td>\n",
       "    </tr>\n",
       "    <tr>\n",
       "      <th>...</th>\n",
       "      <td>...</td>\n",
       "      <td>...</td>\n",
       "      <td>...</td>\n",
       "      <td>...</td>\n",
       "      <td>...</td>\n",
       "      <td>...</td>\n",
       "      <td>...</td>\n",
       "      <td>...</td>\n",
       "      <td>...</td>\n",
       "      <td>...</td>\n",
       "      <td>...</td>\n",
       "      <td>...</td>\n",
       "      <td>...</td>\n",
       "      <td>...</td>\n",
       "      <td>...</td>\n",
       "      <td>...</td>\n",
       "      <td>...</td>\n",
       "      <td>...</td>\n",
       "      <td>...</td>\n",
       "      <td>...</td>\n",
       "      <td>...</td>\n",
       "    </tr>\n",
       "    <tr>\n",
       "      <th>7291</th>\n",
       "      <td>0.000000</td>\n",
       "      <td>2944</td>\n",
       "      <td>1.000000</td>\n",
       "      <td>2.059129e+06</td>\n",
       "      <td>3858.0</td>\n",
       "      <td>0.000000</td>\n",
       "      <td>0</td>\n",
       "      <td>0.0</td>\n",
       "      <td>0.0</td>\n",
       "      <td>0.0</td>\n",
       "      <td>...</td>\n",
       "      <td>1.0</td>\n",
       "      <td>0.0</td>\n",
       "      <td>0.0</td>\n",
       "      <td>0.0</td>\n",
       "      <td>0.0</td>\n",
       "      <td>0.0</td>\n",
       "      <td>0.0</td>\n",
       "      <td>0.0</td>\n",
       "      <td>0.0</td>\n",
       "      <td>0.0</td>\n",
       "    </tr>\n",
       "    <tr>\n",
       "      <th>11633</th>\n",
       "      <td>75.039226</td>\n",
       "      <td>2997</td>\n",
       "      <td>0.554179</td>\n",
       "      <td>3.927227e+04</td>\n",
       "      <td>6481.0</td>\n",
       "      <td>0.025000</td>\n",
       "      <td>1</td>\n",
       "      <td>0.0</td>\n",
       "      <td>0.0</td>\n",
       "      <td>0.0</td>\n",
       "      <td>...</td>\n",
       "      <td>0.0</td>\n",
       "      <td>1.0</td>\n",
       "      <td>0.0</td>\n",
       "      <td>0.0</td>\n",
       "      <td>0.0</td>\n",
       "      <td>0.0</td>\n",
       "      <td>0.0</td>\n",
       "      <td>0.0</td>\n",
       "      <td>0.0</td>\n",
       "      <td>0.0</td>\n",
       "    </tr>\n",
       "    <tr>\n",
       "      <th>1344</th>\n",
       "      <td>85.299950</td>\n",
       "      <td>3413</td>\n",
       "      <td>0.586023</td>\n",
       "      <td>3.657306e+04</td>\n",
       "      <td>5039.0</td>\n",
       "      <td>0.025000</td>\n",
       "      <td>1</td>\n",
       "      <td>0.0</td>\n",
       "      <td>0.0</td>\n",
       "      <td>0.0</td>\n",
       "      <td>...</td>\n",
       "      <td>1.0</td>\n",
       "      <td>0.0</td>\n",
       "      <td>0.0</td>\n",
       "      <td>0.0</td>\n",
       "      <td>0.0</td>\n",
       "      <td>0.0</td>\n",
       "      <td>0.0</td>\n",
       "      <td>0.0</td>\n",
       "      <td>0.0</td>\n",
       "      <td>0.0</td>\n",
       "    </tr>\n",
       "    <tr>\n",
       "      <th>7293</th>\n",
       "      <td>0.000000</td>\n",
       "      <td>7424</td>\n",
       "      <td>1.000000</td>\n",
       "      <td>2.695582e+06</td>\n",
       "      <td>3426.0</td>\n",
       "      <td>0.000000</td>\n",
       "      <td>0</td>\n",
       "      <td>0.0</td>\n",
       "      <td>0.0</td>\n",
       "      <td>0.0</td>\n",
       "      <td>...</td>\n",
       "      <td>0.0</td>\n",
       "      <td>0.0</td>\n",
       "      <td>0.0</td>\n",
       "      <td>0.0</td>\n",
       "      <td>0.0</td>\n",
       "      <td>0.0</td>\n",
       "      <td>0.0</td>\n",
       "      <td>0.0</td>\n",
       "      <td>1.0</td>\n",
       "      <td>0.0</td>\n",
       "    </tr>\n",
       "    <tr>\n",
       "      <th>1289</th>\n",
       "      <td>0.000000</td>\n",
       "      <td>0</td>\n",
       "      <td>0.000000</td>\n",
       "      <td>0.000000e+00</td>\n",
       "      <td>4761.0</td>\n",
       "      <td>0.000000</td>\n",
       "      <td>0</td>\n",
       "      <td>0.0</td>\n",
       "      <td>0.0</td>\n",
       "      <td>0.0</td>\n",
       "      <td>...</td>\n",
       "      <td>0.0</td>\n",
       "      <td>0.0</td>\n",
       "      <td>0.0</td>\n",
       "      <td>0.0</td>\n",
       "      <td>0.0</td>\n",
       "      <td>1.0</td>\n",
       "      <td>0.0</td>\n",
       "      <td>0.0</td>\n",
       "      <td>0.0</td>\n",
       "      <td>0.0</td>\n",
       "    </tr>\n",
       "  </tbody>\n",
       "</table>\n",
       "<p>10014 rows × 30 columns</p>\n",
       "</div>"
      ],
      "text/plain": [
       "        Sit_Time  Points_Count  Points_Percentage  Weight_Variance  \\\n",
       "9090   59.374953          2376           0.495000     7.318870e+04   \n",
       "4428   38.849932          1555           0.391885     8.728128e+04   \n",
       "2145    0.000000          3520           1.000000     3.557657e+06   \n",
       "10745  42.616376          1715           0.799907     2.807068e+05   \n",
       "1239   22.299948           915           0.269752     2.135172e+05   \n",
       "...          ...           ...                ...              ...   \n",
       "7291    0.000000          2944           1.000000     2.059129e+06   \n",
       "11633  75.039226          2997           0.554179     3.927227e+04   \n",
       "1344   85.299950          3413           0.586023     3.657306e+04   \n",
       "7293    0.000000          7424           1.000000     2.695582e+06   \n",
       "1289    0.000000             0           0.000000     0.000000e+00   \n",
       "\n",
       "       Weight_of_cat  Stepping_In_Time  Times_Stepped    1    2    3  ...  \\\n",
       "9090          3025.0          0.025000              1  0.0  0.0  1.0  ...   \n",
       "4428          4479.0          0.025000              1  0.0  0.0  0.0  ...   \n",
       "2145          4243.0          0.000000              0  0.0  0.0  0.0  ...   \n",
       "10745         4429.0          0.820496              1  0.0  0.0  0.0  ...   \n",
       "1239          5192.0          0.025000              1  0.0  0.0  0.0  ...   \n",
       "...              ...               ...            ...  ...  ...  ...  ...   \n",
       "7291          3858.0          0.000000              0  0.0  0.0  0.0  ...   \n",
       "11633         6481.0          0.025000              1  0.0  0.0  0.0  ...   \n",
       "1344          5039.0          0.025000              1  0.0  0.0  0.0  ...   \n",
       "7293          3426.0          0.000000              0  0.0  0.0  0.0  ...   \n",
       "1289          4761.0          0.000000              0  0.0  0.0  0.0  ...   \n",
       "\n",
       "        14   15   16   17   18   19   20   21   22   23  \n",
       "9090   0.0  0.0  0.0  0.0  0.0  0.0  0.0  0.0  0.0  0.0  \n",
       "4428   1.0  0.0  0.0  0.0  0.0  0.0  0.0  0.0  0.0  0.0  \n",
       "2145   1.0  0.0  0.0  0.0  0.0  0.0  0.0  0.0  0.0  0.0  \n",
       "10745  0.0  0.0  0.0  0.0  0.0  0.0  0.0  0.0  0.0  0.0  \n",
       "1239   0.0  0.0  0.0  0.0  0.0  0.0  0.0  0.0  0.0  1.0  \n",
       "...    ...  ...  ...  ...  ...  ...  ...  ...  ...  ...  \n",
       "7291   1.0  0.0  0.0  0.0  0.0  0.0  0.0  0.0  0.0  0.0  \n",
       "11633  0.0  1.0  0.0  0.0  0.0  0.0  0.0  0.0  0.0  0.0  \n",
       "1344   1.0  0.0  0.0  0.0  0.0  0.0  0.0  0.0  0.0  0.0  \n",
       "7293   0.0  0.0  0.0  0.0  0.0  0.0  0.0  0.0  1.0  0.0  \n",
       "1289   0.0  0.0  0.0  0.0  0.0  1.0  0.0  0.0  0.0  0.0  \n",
       "\n",
       "[10014 rows x 30 columns]"
      ]
     },
     "execution_count": 9,
     "metadata": {},
     "output_type": "execute_result"
    }
   ],
   "source": [
    "X1_train"
   ]
  },
  {
   "cell_type": "code",
   "execution_count": 10,
   "id": "7f2eee2c",
   "metadata": {},
   "outputs": [],
   "source": [
    "ones = y1_train.value_counts()[1]/len(y1_train)\n",
    "zeros = 1-ones\n",
    "\n",
    "# Storing percentage of 1 in ones and percentage of 0 in zeros"
   ]
  },
  {
   "cell_type": "markdown",
   "id": "ddf8c5fe",
   "metadata": {},
   "source": [
    "### Tried various Algorithms and Random Forest Classifier seems best for our model"
   ]
  },
  {
   "cell_type": "markdown",
   "id": "8a75f3c6",
   "metadata": {},
   "source": [
    "## Training Model"
   ]
  },
  {
   "cell_type": "code",
   "execution_count": 11,
   "id": "0c7f88fe",
   "metadata": {
    "scrolled": false
   },
   "outputs": [
    {
     "data": {
      "text/plain": [
       "RandomForestClassifier(class_weight={0: 0.29438785700019976,\n",
       "                                     1: 0.7056121429998002},\n",
       "                       max_depth=20, random_state=10)"
      ]
     },
     "execution_count": 11,
     "metadata": {},
     "output_type": "execute_result"
    }
   ],
   "source": [
    "from sklearn.ensemble import RandomForestClassifier\n",
    "\n",
    "clf1 = RandomForestClassifier(n_estimators = 100, max_depth = 20, class_weight = {0: zeros, 1: ones},  random_state=10)\n",
    "clf1.fit(X1_train, y1_train)"
   ]
  },
  {
   "cell_type": "code",
   "execution_count": 12,
   "id": "390736a2",
   "metadata": {},
   "outputs": [],
   "source": [
    "import pickle\n",
    "with open('elimination-classifier.pkl', 'wb') as f:\n",
    "    pickle.dump(clf1, f)"
   ]
  },
  {
   "cell_type": "markdown",
   "id": "cc0e2876",
   "metadata": {},
   "source": [
    "## K Fold cross validation "
   ]
  },
  {
   "cell_type": "code",
   "execution_count": 13,
   "id": "95e16a18",
   "metadata": {
    "scrolled": false
   },
   "outputs": [
    {
     "name": "stdout",
     "output_type": "stream",
     "text": [
      "Accuracy mean: 0.8502179725867867\n",
      "Accuracy std: 0.014738044571450086\n"
     ]
    },
    {
     "data": {
      "text/plain": [
       "array([0.86900958, 0.85463259, 0.8514377 , 0.81709265, 0.83386581,\n",
       "       0.84584665, 0.85223642, 0.84904153, 0.86490807, 0.86410871])"
      ]
     },
     "execution_count": 13,
     "metadata": {},
     "output_type": "execute_result"
    }
   ],
   "source": [
    "from sklearn.model_selection import cross_val_score\n",
    "from sklearn.model_selection import KFold\n",
    "\n",
    "cv = KFold(n_splits=10, shuffle=True, random_state=1)\n",
    "\n",
    "scores = cross_val_score(clf1, X1, y1, cv=cv ,scoring='accuracy', n_jobs=-1)\n",
    "print('Accuracy mean: '+str(scores.mean()))\n",
    "print('Accuracy std: '+str(scores.std()))\n",
    "\n",
    "scores\n",
    "\n",
    "# Cross validated model for 10 different samples of test and train, and mean accuracy is 84.22% with standard deviation of 01.03%"
   ]
  },
  {
   "cell_type": "markdown",
   "id": "760982a6",
   "metadata": {},
   "source": [
    "## Average feature Impact on model output"
   ]
  },
  {
   "cell_type": "code",
   "execution_count": null,
   "id": "7291fa87",
   "metadata": {
    "scrolled": false
   },
   "outputs": [],
   "source": [
    "import shap\n",
    "explainer = shap.TreeExplainer(clf1)\n",
    "choosen_instance = X1_test\n",
    "shap_values = explainer.shap_values(choosen_instance, check_additivity=False)\n",
    "shap.summary_plot(shap_values, X1_test)\n",
    "\n",
    "# Sit_Time has the most impact on model Output"
   ]
  },
  {
   "cell_type": "markdown",
   "id": "ddc0bdae",
   "metadata": {},
   "source": [
    "## Features impact of model Output"
   ]
  },
  {
   "cell_type": "code",
   "execution_count": null,
   "id": "fae2b285",
   "metadata": {
    "scrolled": false
   },
   "outputs": [],
   "source": [
    "import shap \n",
    "explainer = shap.TreeExplainer(clf1) \n",
    "shap_values = explainer.shap_values(X1_test)\n",
    "shap.summary_plot(shap_values[1], X1_test)\n",
    "\n",
    "# With increase in Weight_of_cat and Stepping_In_Time probablty of predicting 0 is increasing"
   ]
  },
  {
   "cell_type": "markdown",
   "id": "ea08345f",
   "metadata": {},
   "source": [
    "## ROC Curve"
   ]
  },
  {
   "cell_type": "code",
   "execution_count": null,
   "id": "0a8438de",
   "metadata": {
    "scrolled": true
   },
   "outputs": [],
   "source": [
    "from sklearn.metrics import roc_curve\n",
    "from sklearn.metrics import roc_auc_score\n",
    "\n",
    "y_pred_proba = clf1.predict_proba(X1_test)[::,1]\n",
    "fpr, tpr, _ = roc_curve(y1_test, y_pred_proba)\n",
    "\n",
    "auc = roc_auc_score(y1_test, clf1.predict_proba(X1_test)[::,1])\n",
    "print(auc)\n",
    "\n",
    "plt.plot(fpr,tpr)\n",
    "plt.ylabel('True Positive Rate')\n",
    "plt.xlabel('False Positive Rate')\n",
    "plt.show()"
   ]
  },
  {
   "cell_type": "markdown",
   "id": "5f9754a7",
   "metadata": {},
   "source": [
    "## Precision-Recall Curve for predicting 0"
   ]
  },
  {
   "cell_type": "code",
   "execution_count": null,
   "id": "f00be155",
   "metadata": {},
   "outputs": [],
   "source": [
    "from sklearn.metrics import precision_recall_curve\n",
    "predicted_proba = clf1.predict_proba(X1_train)\n",
    "precision, recall, threshold = precision_recall_curve(y1_train, predicted_proba[:, 0])\n",
    "\n",
    "plt.plot(threshold, precision[:-1], 'b--', label='Precision')\n",
    "plt.plot(threshold, recall[:-1], 'r--', label='Recall')\n",
    "plt.xlabel('Threshold')\n",
    "plt.legend(loc='lower left')\n",
    "plt.ylim([0,1])\n",
    "print('Precision Recall Curve for \"0\"')"
   ]
  },
  {
   "cell_type": "markdown",
   "id": "74bf094b",
   "metadata": {},
   "source": [
    "## Precision-Recall Curve for predicting 1"
   ]
  },
  {
   "cell_type": "code",
   "execution_count": null,
   "id": "584bc583",
   "metadata": {
    "scrolled": true
   },
   "outputs": [],
   "source": [
    "from sklearn.metrics import precision_recall_curve\n",
    "\n",
    "predicted_proba = clf1.predict_proba(X1_train)\n",
    "precision, recall, threshold = precision_recall_curve(y1_train, predicted_proba[:, 1])\n",
    "\n",
    "plt.plot(threshold, precision[:-1], 'b--', label='Precision')\n",
    "plt.plot(threshold, recall[:-1], 'r--', label='Recall')\n",
    "plt.xlabel('Threshold')\n",
    "plt.legend(loc='lower left')\n",
    "print('Precision Recall Curve for \"1\"')\n",
    "\n",
    "# Point of Intersection of Precision and Recall lines will be used as threshold to classify and 0 and 1 from predicted probablies"
   ]
  },
  {
   "cell_type": "markdown",
   "id": "9d5f6829",
   "metadata": {},
   "source": [
    "### Checking model accuracy on Train set for threshold obtained from Precision Recall Curve for \"1\""
   ]
  },
  {
   "cell_type": "code",
   "execution_count": null,
   "id": "c713d3e4",
   "metadata": {},
   "outputs": [],
   "source": [
    "from sklearn.metrics import accuracy_score\n",
    "\n",
    "#threshold = 0.75 taken from Precision Recall Curve for \"1\"\n",
    "\n",
    "threshold = 0.75\n",
    "\n",
    "predicted_proba = clf1.predict_proba(X1_train)\n",
    "predicted = (predicted_proba [:,1] >= threshold).astype('int')\n",
    "\n",
    "accuracy = accuracy_score(y1_train, predicted)\n",
    "accuracy*100"
   ]
  },
  {
   "cell_type": "markdown",
   "id": "418f16f4",
   "metadata": {},
   "source": [
    "### Using threshold obtained to classify 0 and 1 for test set and train set"
   ]
  },
  {
   "cell_type": "code",
   "execution_count": null,
   "id": "827df5bd",
   "metadata": {},
   "outputs": [],
   "source": [
    "threshold = 0.75\n",
    "\n",
    "predicted_proba = clf1.predict_proba(X1_test)\n",
    "test1_pred = (predicted_proba [:,1] >= threshold).astype('int')\n",
    "\n",
    "predicted_proba = clf1.predict_proba(X1_train)\n",
    "train1_pred = (predicted_proba [:,1] >= threshold).astype('int')\n",
    "\n",
    "#test1_pred = clf1.predict(X1_test)\n",
    "#train1_pred = clf1.predict(X1_train)"
   ]
  },
  {
   "cell_type": "markdown",
   "id": "c9778469",
   "metadata": {},
   "source": [
    "## Model report, Confusion Matrix and Accuracy on Test set"
   ]
  },
  {
   "cell_type": "code",
   "execution_count": null,
   "id": "31372755",
   "metadata": {
    "scrolled": true
   },
   "outputs": [],
   "source": [
    "from sklearn.metrics import classification_report\n",
    "from sklearn.metrics import confusion_matrix\n",
    "\n",
    "print(classification_report(y1_test, test1_pred))\n",
    "\n",
    "tn, fp, fn, tp = confusion_matrix(y1_test, test1_pred).ravel()\n",
    "confusion_matrix(y1_test, test1_pred)"
   ]
  },
  {
   "cell_type": "code",
   "execution_count": null,
   "id": "9512d511",
   "metadata": {
    "scrolled": true
   },
   "outputs": [],
   "source": [
    "accuracy = (tn+tp)/(tn+fp+fn+tp)\n",
    "accuracy*100"
   ]
  },
  {
   "cell_type": "markdown",
   "id": "d7f5a637",
   "metadata": {},
   "source": [
    "## Model report, Confusion Matrix and Accuracy on Train set"
   ]
  },
  {
   "cell_type": "code",
   "execution_count": null,
   "id": "e3545ca3",
   "metadata": {},
   "outputs": [],
   "source": [
    "from sklearn.metrics import classification_report\n",
    "from sklearn.metrics import confusion_matrix\n",
    "\n",
    "print(classification_report(y1_train, train1_pred))\n",
    "tn, fp, fn, tp = confusion_matrix(y1_train, train1_pred).ravel()\n",
    "confusion_matrix(y1_train, train1_pred)"
   ]
  },
  {
   "cell_type": "code",
   "execution_count": null,
   "id": "a7d42e9b",
   "metadata": {},
   "outputs": [],
   "source": [
    "accuracy = (tn+tp)/(tn+fp+fn+tp)\n",
    "accuracy*100"
   ]
  },
  {
   "cell_type": "markdown",
   "id": "1ebe6c03",
   "metadata": {},
   "source": [
    "## Misclassification Analysis"
   ]
  },
  {
   "cell_type": "code",
   "execution_count": null,
   "id": "6f934b2e",
   "metadata": {},
   "outputs": [],
   "source": [
    "threshold = 0.75\n",
    "\n",
    "predicted_proba = clf1.predict_proba(X1)\n",
    "df['Elimination_Prob'] = predicted_proba [:,1]\n",
    "X_pred = (predicted_proba [:,1] >= threshold).astype('int')\n",
    "df['Elimination_Pred'] = X_pred"
   ]
  },
  {
   "cell_type": "markdown",
   "id": "8787adb2",
   "metadata": {},
   "source": [
    "#### Misclassification of 0"
   ]
  },
  {
   "cell_type": "code",
   "execution_count": null,
   "id": "237c54c9",
   "metadata": {
    "scrolled": true
   },
   "outputs": [],
   "source": [
    "temp = df[(df['Elimination'] != df['Elimination_Pred']) & (df['Elimination_Pred'] == 0)]\n",
    "temp['Elimination_Prob'].describe()\n",
    "\n",
    "# Model Predicted it 0, while it is 1 in dateset"
   ]
  },
  {
   "cell_type": "markdown",
   "id": "99b0878f",
   "metadata": {},
   "source": [
    "#### Misclassification of 1"
   ]
  },
  {
   "cell_type": "code",
   "execution_count": null,
   "id": "0deb2def",
   "metadata": {
    "scrolled": false
   },
   "outputs": [],
   "source": [
    "temp = df[(df['Elimination'] != df['Elimination_Pred']) & (df['Elimination_Pred'] == 1)]\n",
    "temp['Elimination_Prob'].describe()\n",
    "\n",
    "# Model Predicted it 1, while it is 0 in dateset"
   ]
  },
  {
   "cell_type": "markdown",
   "id": "503b3347",
   "metadata": {},
   "source": [
    "# SECOND MODEL - To classify Urination and Defecation"
   ]
  },
  {
   "cell_type": "markdown",
   "id": "b41a3f1f",
   "metadata": {},
   "source": [
    "## Predicting Elimination from first model"
   ]
  },
  {
   "cell_type": "code",
   "execution_count": null,
   "id": "71cfa4b3",
   "metadata": {},
   "outputs": [],
   "source": [
    "threshold = 0.75\n",
    "\n",
    "predicted_proba = clf1.predict_proba(X1)\n",
    "X_pred = (predicted_proba [:,1] >= threshold).astype('int')"
   ]
  },
  {
   "cell_type": "code",
   "execution_count": null,
   "id": "91a0107b",
   "metadata": {},
   "outputs": [],
   "source": [
    "df['Elimination_Pred'] = X_pred\n",
    "df2 = df[df['Elimination_Pred']==1]\n",
    "\n",
    "# We will predict Urination and Defecation from Elimination predicted from first model "
   ]
  },
  {
   "cell_type": "markdown",
   "id": "59531f41",
   "metadata": {},
   "source": [
    "## Features Selection for X and y"
   ]
  },
  {
   "cell_type": "code",
   "execution_count": null,
   "id": "b347a065",
   "metadata": {},
   "outputs": [],
   "source": [
    "X2 = df2[['Sit_Time', 'Points_Count', 'Points_Percentage', 'Weight_Variance', 'Weight_of_cat', 'Stepping_In_Time', 'Times_Stepped', 'Event_start_time_hour']]\n",
    "y2 = df2['Urination']"
   ]
  },
  {
   "cell_type": "markdown",
   "id": "2f474461",
   "metadata": {},
   "source": [
    "## Encoding Categorical Variable"
   ]
  },
  {
   "cell_type": "code",
   "execution_count": null,
   "id": "ff77945a",
   "metadata": {
    "scrolled": true
   },
   "outputs": [],
   "source": [
    "from sklearn.preprocessing import OneHotEncoder\n",
    "from seaborn import load_dataset\n",
    "\n",
    "'''ohe = OneHotEncoder()\n",
    "transformed = ohe.fit_transform(X2[['Name_of_cat']])\n",
    "\n",
    "X2[ohe.categories_[0]] = transformed.toarray()\n",
    "X2 = X2.drop(columns = ['Name_of_cat'])'''\n",
    "\n",
    "ohe = OneHotEncoder()\n",
    "transformed = ohe.fit_transform(X2[['Event_start_time_hour']])\n",
    "\n",
    "X2[ohe.categories_[0]] = transformed.toarray()\n",
    "X2 = X2.drop(columns = ['Event_start_time_hour'])\n",
    "X2 = X2.drop(columns = [0])"
   ]
  },
  {
   "cell_type": "markdown",
   "id": "a79c4cc7",
   "metadata": {},
   "source": [
    "## Spliting Train and Test set in ratio of 80%, 20% respectively"
   ]
  },
  {
   "cell_type": "code",
   "execution_count": null,
   "id": "36af1307",
   "metadata": {},
   "outputs": [],
   "source": [
    "from sklearn.model_selection import train_test_split\n",
    "X2_train, X2_test, y2_train, y2_test = train_test_split(X2, y2, test_size=0.2, random_state=20)"
   ]
  },
  {
   "cell_type": "code",
   "execution_count": null,
   "id": "34d9a25f",
   "metadata": {},
   "outputs": [],
   "source": [
    "ones = y2_train.value_counts()[1]/len(y2_train)\n",
    "zeros = 1-ones\n",
    "\n",
    "# Storing percentage of 1 in ones and percentage of 0 in zeros## Training Model"
   ]
  },
  {
   "cell_type": "markdown",
   "id": "b1196dc4",
   "metadata": {},
   "source": [
    "## Training Model"
   ]
  },
  {
   "cell_type": "code",
   "execution_count": null,
   "id": "2e22a7e0",
   "metadata": {},
   "outputs": [],
   "source": [
    "from sklearn.ensemble import RandomForestClassifier\n",
    "\n",
    "clf2 = RandomForestClassifier(n_estimators = 100, max_depth = 15, class_weight = {0: zeros, 1: ones}, random_state=20)\n",
    "clf2.fit(X2_train, y2_train)"
   ]
  },
  {
   "cell_type": "code",
   "execution_count": null,
   "id": "95111244",
   "metadata": {},
   "outputs": [],
   "source": [
    "import pickle\n",
    "with open('Urination-classifier.pkl', 'wb') as f:\n",
    "    pickle.dump(clf2, f)"
   ]
  },
  {
   "cell_type": "markdown",
   "id": "8feb63f1",
   "metadata": {},
   "source": [
    "## K Fold cross validation "
   ]
  },
  {
   "cell_type": "code",
   "execution_count": null,
   "id": "1b3a6c35",
   "metadata": {},
   "outputs": [],
   "source": [
    "from sklearn.model_selection import cross_val_score\n",
    "from sklearn.model_selection import KFold\n",
    "\n",
    "cv = KFold(n_splits=10, shuffle=True, random_state=2)\n",
    "\n",
    "scores = cross_val_score(clf2, X2, y2, cv=cv ,scoring='accuracy', n_jobs=-1)\n",
    "print('Accuracy mean: '+str(scores.mean()))\n",
    "print('Accuracy std: '+str(scores.std()))\n",
    "\n",
    "scores"
   ]
  },
  {
   "cell_type": "markdown",
   "id": "4eb84fcc",
   "metadata": {},
   "source": [
    "## Feature Importance in Model"
   ]
  },
  {
   "cell_type": "code",
   "execution_count": null,
   "id": "01659aed",
   "metadata": {},
   "outputs": [],
   "source": [
    "import shap\n",
    "explainer = shap.TreeExplainer(clf2)\n",
    "choosen_instance = X2_test\n",
    "shap_values = explainer.shap_values(choosen_instance, check_additivity=False)\n",
    "shap.summary_plot(shap_values, X2_test)"
   ]
  },
  {
   "cell_type": "markdown",
   "id": "1d7c055f",
   "metadata": {},
   "source": [
    "## Features impact of model Output"
   ]
  },
  {
   "cell_type": "code",
   "execution_count": null,
   "id": "23afd4b6",
   "metadata": {},
   "outputs": [],
   "source": [
    "import shap \n",
    "explainer = shap.TreeExplainer(clf2) \n",
    "shap_values = explainer.shap_values(X2_test)\n",
    "shap.summary_plot(shap_values[1], X2_test)"
   ]
  },
  {
   "cell_type": "markdown",
   "id": "1b05eeae",
   "metadata": {},
   "source": [
    "## ROC Curve"
   ]
  },
  {
   "cell_type": "code",
   "execution_count": null,
   "id": "52d004b1",
   "metadata": {},
   "outputs": [],
   "source": [
    "from sklearn.metrics import roc_curve\n",
    "from sklearn.metrics import roc_auc_score\n",
    "\n",
    "y_pred_proba = clf2.predict_proba(X2_test)[::,1]\n",
    "fpr, tpr, _ = roc_curve(y2_test, y_pred_proba)\n",
    "\n",
    "auc = roc_auc_score(y2_test, clf2.predict_proba(X2_test)[::,1])\n",
    "print(auc)\n",
    "\n",
    "#create ROC curve\n",
    "plt.plot(fpr,tpr)\n",
    "plt.ylabel('True Positive Rate')\n",
    "plt.xlabel('False Positive Rate')\n",
    "plt.show()"
   ]
  },
  {
   "cell_type": "markdown",
   "id": "5a36d0ad",
   "metadata": {},
   "source": [
    "## Precision-Recall Curve for predicting 0"
   ]
  },
  {
   "cell_type": "code",
   "execution_count": null,
   "id": "0f13914d",
   "metadata": {},
   "outputs": [],
   "source": [
    "from sklearn.metrics import precision_recall_curve\n",
    "predicted_proba = clf2.predict_proba(X2_train)\n",
    "precision, recall, threshold = precision_recall_curve(y2_train, predicted_proba[:, 0])\n",
    "\n",
    "plt.plot(threshold, precision[:-1], 'b--', label='Precision')\n",
    "plt.plot(threshold, recall[:-1], 'r--', label='Recall')\n",
    "plt.xlabel('Threshold')\n",
    "plt.legend(loc='lower left')\n",
    "plt.ylim([0,1])\n",
    "print('Precision Recall Curve for \"0\"')"
   ]
  },
  {
   "cell_type": "markdown",
   "id": "54591adb",
   "metadata": {},
   "source": [
    "## Precision-Recall Curve for predicting 1"
   ]
  },
  {
   "cell_type": "code",
   "execution_count": null,
   "id": "f449221d",
   "metadata": {},
   "outputs": [],
   "source": [
    "from sklearn.metrics import precision_recall_curve\n",
    "\n",
    "predicted_proba = clf2.predict_proba(X2_train)\n",
    "precision, recall, threshold = precision_recall_curve(y2_train, predicted_proba[:, 1])\n",
    "\n",
    "plt.plot(threshold, precision[:-1], 'b--', label='Precision')\n",
    "plt.plot(threshold, recall[:-1], 'r--', label='Recall')\n",
    "plt.xlabel('Threshold')\n",
    "plt.legend(loc='lower left')\n",
    "print('Precision Recall Curve for \"1\"')"
   ]
  },
  {
   "cell_type": "markdown",
   "id": "7a383a8f",
   "metadata": {},
   "source": [
    "### Checking model accuracy on Train set for threshold obtained from Precision Recall Curve for \"1\""
   ]
  },
  {
   "cell_type": "code",
   "execution_count": null,
   "id": "43b8a597",
   "metadata": {},
   "outputs": [],
   "source": [
    "from sklearn.metrics import accuracy_score\n",
    "\n",
    "#threshold = 0.7 taken from Precision Recall Curve for \"1\"\n",
    "\n",
    "threshold = 0.7\n",
    "\n",
    "predicted_proba = clf2.predict_proba(X2_train)\n",
    "predicted = (predicted_proba [:,1] >= threshold).astype('int')\n",
    "\n",
    "accuracy = accuracy_score(y2_train, predicted)\n",
    "accuracy*100"
   ]
  },
  {
   "cell_type": "markdown",
   "id": "df870522",
   "metadata": {},
   "source": [
    "### Using threshold obtained to classify 0 and 1 for test set and train set"
   ]
  },
  {
   "cell_type": "code",
   "execution_count": null,
   "id": "d370b70e",
   "metadata": {},
   "outputs": [],
   "source": [
    "threshold = 0.7\n",
    "\n",
    "predicted_proba = clf2.predict_proba(X2_test)\n",
    "test2_pred = (predicted_proba [:,1] >= threshold).astype('int')\n",
    "\n",
    "predicted_proba = clf2.predict_proba(X2_train)\n",
    "train2_pred = (predicted_proba [:,1] >= threshold).astype('int')\n",
    "\n",
    "#test2_pred = clf2.predict(X2_test)\n",
    "#train2_pred = clf2.predict(X2_train)"
   ]
  },
  {
   "cell_type": "markdown",
   "id": "ebb14ae4",
   "metadata": {},
   "source": [
    "## Model report, Confusion Matrix and Accuracy on Test set"
   ]
  },
  {
   "cell_type": "code",
   "execution_count": null,
   "id": "ead22655",
   "metadata": {},
   "outputs": [],
   "source": [
    "from sklearn.metrics import classification_report\n",
    "from sklearn.metrics import confusion_matrix\n",
    "\n",
    "print(classification_report(y2_test, test2_pred))\n",
    "tn, fp, fn, tp = confusion_matrix(y2_test, test2_pred).ravel()\n",
    "confusion_matrix(y2_test, test2_pred)"
   ]
  },
  {
   "cell_type": "code",
   "execution_count": null,
   "id": "bcb04644",
   "metadata": {},
   "outputs": [],
   "source": [
    "accuracy = (tn+tp)/(tn+fp+fn+tp)\n",
    "accuracy*100"
   ]
  },
  {
   "cell_type": "markdown",
   "id": "061ee8d3",
   "metadata": {},
   "source": [
    "## Model report, Confusion Matrix and Accuracy on Train set"
   ]
  },
  {
   "cell_type": "code",
   "execution_count": null,
   "id": "931e73a8",
   "metadata": {},
   "outputs": [],
   "source": [
    "from sklearn.metrics import classification_report\n",
    "from sklearn.metrics import confusion_matrix\n",
    "\n",
    "print(classification_report(y2_train, train2_pred))\n",
    "tn, fp, fn, tp = confusion_matrix(y2_train, train2_pred).ravel()\n",
    "confusion_matrix(y2_train, train2_pred)"
   ]
  },
  {
   "cell_type": "code",
   "execution_count": null,
   "id": "3f6e13ba",
   "metadata": {
    "scrolled": true
   },
   "outputs": [],
   "source": [
    "accuracy = (tn+tp)/(tn+fp+fn+tp)\n",
    "accuracy*100"
   ]
  },
  {
   "cell_type": "markdown",
   "id": "e48b450a",
   "metadata": {},
   "source": [
    "## Misclassification Analysis"
   ]
  },
  {
   "cell_type": "code",
   "execution_count": null,
   "id": "5f9a6336",
   "metadata": {
    "scrolled": false
   },
   "outputs": [],
   "source": [
    "threshold = 0.7\n",
    "\n",
    "predicted_proba = clf2.predict_proba(X2)\n",
    "df2['Urination_Prob'] = predicted_proba [:,1]\n",
    "X_pred = (predicted_proba [:,1] >= threshold).astype('int')\n",
    "df2['Urination_Pred'] = X_pred"
   ]
  },
  {
   "cell_type": "markdown",
   "id": "1bb160c4",
   "metadata": {},
   "source": [
    "#### Misclassification of 0"
   ]
  },
  {
   "cell_type": "code",
   "execution_count": null,
   "id": "af776ee4",
   "metadata": {
    "scrolled": false
   },
   "outputs": [],
   "source": [
    "temp = df2[(df2['Urination'] != df2['Urination_Pred']) & (df2['Urination_Pred'] == 0)]\n",
    "temp['Urination_Prob'].describe()\n",
    "\n",
    "# Model Predicted it 0, while it is 1 in dateset\n",
    "# Couldnt find any pattern in Missclafication of 0 for a new feature to be created"
   ]
  },
  {
   "cell_type": "markdown",
   "id": "b391e623",
   "metadata": {},
   "source": [
    "#### Misclassification of 1"
   ]
  },
  {
   "cell_type": "code",
   "execution_count": null,
   "id": "03c356c3",
   "metadata": {
    "scrolled": false
   },
   "outputs": [],
   "source": [
    "temp = df2[(df2['Urination'] != df2['Urination_Pred']) & (df2['Urination_Pred'] == 1)]\n",
    "temp['Urination_Prob'].describe()\n",
    "\n",
    "# Model Predicted it 1, while it is 0 in dateset\n",
    "# Couldnt find any pattern in Missclafication of 0 for a new feature to be created"
   ]
  },
  {
   "cell_type": "code",
   "execution_count": null,
   "id": "191eb21e",
   "metadata": {},
   "outputs": [],
   "source": []
  },
  {
   "cell_type": "code",
   "execution_count": null,
   "id": "c17cfb19",
   "metadata": {},
   "outputs": [],
   "source": []
  }
 ],
 "metadata": {
  "kernelspec": {
   "display_name": "Python 3 (ipykernel)",
   "language": "python",
   "name": "python3"
  },
  "language_info": {
   "codemirror_mode": {
    "name": "ipython",
    "version": 3
   },
   "file_extension": ".py",
   "mimetype": "text/x-python",
   "name": "python",
   "nbconvert_exporter": "python",
   "pygments_lexer": "ipython3",
   "version": "3.9.7"
  }
 },
 "nbformat": 4,
 "nbformat_minor": 5
}
